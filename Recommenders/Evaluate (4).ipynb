{
 "cells": [
  {
   "cell_type": "markdown",
   "metadata": {},
   "source": [
    "### Evaluation\n",
    "- You are given a recommendations.csv file with user ids and you are supposed to recommend atmost 10 songs.\n",
    "- The training data is provided in train.csv file.\n",
    "- Your entries in the recommendations.csv file should be such that for each row the first value must be user_id followed by recommended song_ids all seperated by comma.\n",
    "- Make sure you have atleast one recommendation for each user in recommendations.csv or else your score will be zero\n",
    "- The recommended songs to a user must be different from what you already have in the training set for the same user.\n",
    "- A user can have at most 10 recommendations.\n",
    "- The final score F1 will be a harmonic mean of precision and recall values.\n",
    "- Run the below script to score your recommendations."
   ]
  },
  {
   "cell_type": "code",
   "execution_count": 1,
   "metadata": {},
   "outputs": [
    {
     "name": "stderr",
     "output_type": "stream",
     "text": [
      "/opt/conda/lib/python3.7/site-packages/pandas/compat/_optional.py:138: UserWarning: Pandas requires version '2.7.0' or newer of 'numexpr' (version '2.6.9' currently installed).\n",
      "  warnings.warn(msg, UserWarning)\n"
     ]
    }
   ],
   "source": [
    "import pandas as pd\n",
    "from sklearn.model_selection import train_test_split\n",
    "import numpy as np\n",
    "import Recommenders as Recommenders"
   ]
  },
  {
   "cell_type": "code",
   "execution_count": 2,
   "metadata": {},
   "outputs": [
    {
     "data": {
      "text/html": [
       "<div>\n",
       "<style scoped>\n",
       "    .dataframe tbody tr th:only-of-type {\n",
       "        vertical-align: middle;\n",
       "    }\n",
       "\n",
       "    .dataframe tbody tr th {\n",
       "        vertical-align: top;\n",
       "    }\n",
       "\n",
       "    .dataframe thead th {\n",
       "        text-align: right;\n",
       "    }\n",
       "</style>\n",
       "<table border=\"1\" class=\"dataframe\">\n",
       "  <thead>\n",
       "    <tr style=\"text-align: right;\">\n",
       "      <th></th>\n",
       "      <th>user_id</th>\n",
       "      <th>song_id</th>\n",
       "      <th>listen_count</th>\n",
       "      <th>title</th>\n",
       "      <th>release</th>\n",
       "      <th>artist_name</th>\n",
       "      <th>year</th>\n",
       "    </tr>\n",
       "  </thead>\n",
       "  <tbody>\n",
       "    <tr>\n",
       "      <th>0</th>\n",
       "      <td>806ccae96c8ecb1c198482aff785ccd6bbe17143</td>\n",
       "      <td>SOBOAFP12A8C131F36</td>\n",
       "      <td>1</td>\n",
       "      <td>Lucky (Album Version)</td>\n",
       "      <td>We Sing.  We Dance.  We Steal Things.</td>\n",
       "      <td>Jason Mraz &amp; Colbie Caillat</td>\n",
       "      <td>0</td>\n",
       "    </tr>\n",
       "    <tr>\n",
       "      <th>1</th>\n",
       "      <td>ed3664f9cd689031fe4d0ed6c66503bdc3ad7cb6</td>\n",
       "      <td>SOPTLQL12AB018D56F</td>\n",
       "      <td>1</td>\n",
       "      <td>Billionaire [feat. Bruno Mars]  (Explicit Albu...</td>\n",
       "      <td>Billionaire [feat. Bruno Mars]</td>\n",
       "      <td>Travie McCoy</td>\n",
       "      <td>0</td>\n",
       "    </tr>\n",
       "    <tr>\n",
       "      <th>2</th>\n",
       "      <td>0dd93f61fe69f292ac336715ef607214efb3dbaa</td>\n",
       "      <td>SORALYQ12A8151BA99</td>\n",
       "      <td>3</td>\n",
       "      <td>If I Ain't Got You</td>\n",
       "      <td>R&amp;B Love Collection 08</td>\n",
       "      <td>Alicia Keys</td>\n",
       "      <td>2003</td>\n",
       "    </tr>\n",
       "  </tbody>\n",
       "</table>\n",
       "</div>"
      ],
      "text/plain": [
       "                                    user_id             song_id  listen_count  \\\n",
       "0  806ccae96c8ecb1c198482aff785ccd6bbe17143  SOBOAFP12A8C131F36             1   \n",
       "1  ed3664f9cd689031fe4d0ed6c66503bdc3ad7cb6  SOPTLQL12AB018D56F             1   \n",
       "2  0dd93f61fe69f292ac336715ef607214efb3dbaa  SORALYQ12A8151BA99             3   \n",
       "\n",
       "                                               title  \\\n",
       "0                              Lucky (Album Version)   \n",
       "1  Billionaire [feat. Bruno Mars]  (Explicit Albu...   \n",
       "2                                 If I Ain't Got You   \n",
       "\n",
       "                                 release                  artist_name  year  \n",
       "0  We Sing.  We Dance.  We Steal Things.  Jason Mraz & Colbie Caillat     0  \n",
       "1         Billionaire [feat. Bruno Mars]                 Travie McCoy     0  \n",
       "2                 R&B Love Collection 08                  Alicia Keys  2003  "
      ]
     },
     "execution_count": 2,
     "metadata": {},
     "output_type": "execute_result"
    }
   ],
   "source": [
    "song_df = pd.read_csv('train.csv')\n",
    "song_df.head(3)\n"
   ]
  },
  {
   "cell_type": "code",
   "execution_count": 3,
   "metadata": {},
   "outputs": [],
   "source": [
    "#Merge song title and artist_name columns to make a merged column\n",
    "song_df['song'] = song_df['title'].map(str) + \" - \" + song_df['artist_name']"
   ]
  },
  {
   "cell_type": "code",
   "execution_count": 4,
   "metadata": {},
   "outputs": [
    {
     "data": {
      "text/html": [
       "<div>\n",
       "<style scoped>\n",
       "    .dataframe tbody tr th:only-of-type {\n",
       "        vertical-align: middle;\n",
       "    }\n",
       "\n",
       "    .dataframe tbody tr th {\n",
       "        vertical-align: top;\n",
       "    }\n",
       "\n",
       "    .dataframe thead th {\n",
       "        text-align: right;\n",
       "    }\n",
       "</style>\n",
       "<table border=\"1\" class=\"dataframe\">\n",
       "  <thead>\n",
       "    <tr style=\"text-align: right;\">\n",
       "      <th></th>\n",
       "      <th>song</th>\n",
       "      <th>listen_count</th>\n",
       "      <th>percentage</th>\n",
       "    </tr>\n",
       "  </thead>\n",
       "  <tbody>\n",
       "    <tr>\n",
       "      <th>4703</th>\n",
       "      <td>Sehr kosmisch - Harmonia</td>\n",
       "      <td>68</td>\n",
       "      <td>0.42500</td>\n",
       "    </tr>\n",
       "    <tr>\n",
       "      <th>1360</th>\n",
       "      <td>Dog Days Are Over (Radio Edit) - Florence + Th...</td>\n",
       "      <td>58</td>\n",
       "      <td>0.36250</td>\n",
       "    </tr>\n",
       "    <tr>\n",
       "      <th>5987</th>\n",
       "      <td>Undo - Björk</td>\n",
       "      <td>56</td>\n",
       "      <td>0.35000</td>\n",
       "    </tr>\n",
       "    <tr>\n",
       "      <th>4697</th>\n",
       "      <td>Secrets - OneRepublic</td>\n",
       "      <td>52</td>\n",
       "      <td>0.32500</td>\n",
       "    </tr>\n",
       "    <tr>\n",
       "      <th>4462</th>\n",
       "      <td>Revelry - Kings Of Leon</td>\n",
       "      <td>51</td>\n",
       "      <td>0.31875</td>\n",
       "    </tr>\n",
       "    <tr>\n",
       "      <th>...</th>\n",
       "      <td>...</td>\n",
       "      <td>...</td>\n",
       "      <td>...</td>\n",
       "    </tr>\n",
       "    <tr>\n",
       "      <th>6551</th>\n",
       "      <td>Zwitter - Rammstein</td>\n",
       "      <td>1</td>\n",
       "      <td>0.00625</td>\n",
       "    </tr>\n",
       "    <tr>\n",
       "      <th>6553</th>\n",
       "      <td>aNYway - Armand Van Helden &amp; A-TRAK Present Du...</td>\n",
       "      <td>1</td>\n",
       "      <td>0.00625</td>\n",
       "    </tr>\n",
       "    <tr>\n",
       "      <th>6555</th>\n",
       "      <td>high fives - Four Tet</td>\n",
       "      <td>1</td>\n",
       "      <td>0.00625</td>\n",
       "    </tr>\n",
       "    <tr>\n",
       "      <th>6556</th>\n",
       "      <td>in white rooms - Booka Shade</td>\n",
       "      <td>1</td>\n",
       "      <td>0.00625</td>\n",
       "    </tr>\n",
       "    <tr>\n",
       "      <th>6565</th>\n",
       "      <td>¿Lo Ves? [Piano Y Voz] - Alejandro Sanz</td>\n",
       "      <td>1</td>\n",
       "      <td>0.00625</td>\n",
       "    </tr>\n",
       "  </tbody>\n",
       "</table>\n",
       "<p>6567 rows × 3 columns</p>\n",
       "</div>"
      ],
      "text/plain": [
       "                                                   song  listen_count  \\\n",
       "4703                           Sehr kosmisch - Harmonia            68   \n",
       "1360  Dog Days Are Over (Radio Edit) - Florence + Th...            58   \n",
       "5987                                       Undo - Björk            56   \n",
       "4697                              Secrets - OneRepublic            52   \n",
       "4462                            Revelry - Kings Of Leon            51   \n",
       "...                                                 ...           ...   \n",
       "6551                                Zwitter - Rammstein             1   \n",
       "6553  aNYway - Armand Van Helden & A-TRAK Present Du...             1   \n",
       "6555                              high fives - Four Tet             1   \n",
       "6556                       in white rooms - Booka Shade             1   \n",
       "6565            ¿Lo Ves? [Piano Y Voz] - Alejandro Sanz             1   \n",
       "\n",
       "      percentage  \n",
       "4703     0.42500  \n",
       "1360     0.36250  \n",
       "5987     0.35000  \n",
       "4697     0.32500  \n",
       "4462     0.31875  \n",
       "...          ...  \n",
       "6551     0.00625  \n",
       "6553     0.00625  \n",
       "6555     0.00625  \n",
       "6556     0.00625  \n",
       "6565     0.00625  \n",
       "\n",
       "[6567 rows x 3 columns]"
      ]
     },
     "execution_count": 4,
     "metadata": {},
     "output_type": "execute_result"
    }
   ],
   "source": [
    "song_grouped = song_df.groupby(['song']).agg({'listen_count': 'count'}).reset_index()\n",
    "grouped_sum = song_grouped['listen_count'].sum()\n",
    "song_grouped['percentage']  = song_grouped['listen_count'].div(grouped_sum)*100\n",
    "song_grouped.sort_values(['listen_count', 'song'], ascending = [0,1])"
   ]
  },
  {
   "cell_type": "code",
   "execution_count": 5,
   "metadata": {},
   "outputs": [],
   "source": [
    "users = song_df['user_id'].unique()"
   ]
  },
  {
   "cell_type": "code",
   "execution_count": 13,
   "metadata": {},
   "outputs": [],
   "source": [
    "is_model = Recommenders.item_similarity_recommender_py()\n",
    "is_model.create(song_df, 'user_id', 'song_id')"
   ]
  },
  {
   "cell_type": "code",
   "execution_count": 14,
   "metadata": {},
   "outputs": [],
   "source": [
    "test_df = pd.read_csv(\"recommendations.csv\", header=None)\n",
    "test_df.rename(columns = {list(test_df)[0]: 'user_id'}, inplace = True)"
   ]
  },
  {
   "cell_type": "code",
   "execution_count": 15,
   "metadata": {},
   "outputs": [],
   "source": [
    "test_users = test_df['user_id'].unique()"
   ]
  },
  {
   "cell_type": "code",
   "execution_count": 16,
   "metadata": {},
   "outputs": [],
   "source": [
    "for j in range(10):\n",
    "    test_df[\"song {}\".format(j)] = 0"
   ]
  },
  {
   "cell_type": "code",
   "execution_count": 17,
   "metadata": {},
   "outputs": [
    {
     "name": "stderr",
     "output_type": "stream",
     "text": [
      "/opt/conda/lib/python3.7/site-packages/ipykernel_launcher.py:7: SettingWithCopyWarning: \n",
      "A value is trying to be set on a copy of a slice from a DataFrame\n",
      "\n",
      "See the caveats in the documentation: https://pandas.pydata.org/pandas-docs/stable/user_guide/indexing.html#returning-a-view-versus-a-copy\n",
      "  import sys\n",
      "/opt/conda/lib/python3.7/site-packages/pandas/core/indexing.py:1732: SettingWithCopyWarning: \n",
      "A value is trying to be set on a copy of a slice from a DataFrame\n",
      "\n",
      "See the caveats in the documentation: https://pandas.pydata.org/pandas-docs/stable/user_guide/indexing.html#returning-a-view-versus-a-copy\n",
      "  self._setitem_single_block(indexer, value, name)\n"
     ]
    }
   ],
   "source": [
    "for i in range(5):\n",
    "    user_id = test_df['user_id'][i]\n",
    "    df, nb = is_model.recommend(user_id)\n",
    "    if nb<10:\n",
    "        df = df.iloc[:nb]     \n",
    "    for j in range(len(df)):\n",
    "        test_df[\"song {}\".format(j)][i]= df.song[j]\n",
    "\n",
    "    \n",
    "    "
   ]
  },
  {
   "cell_type": "code",
   "execution_count": 21,
   "metadata": {},
   "outputs": [],
   "source": [
    "test_df = test_df.astype(str)\n",
    "for j in range(10):\n",
    "    test_df['song {}'.format(j)].replace(['0', '0.0'], '', inplace=True)"
   ]
  },
  {
   "cell_type": "code",
   "execution_count": 22,
   "metadata": {},
   "outputs": [
    {
     "data": {
      "text/html": [
       "<div>\n",
       "<style scoped>\n",
       "    .dataframe tbody tr th:only-of-type {\n",
       "        vertical-align: middle;\n",
       "    }\n",
       "\n",
       "    .dataframe tbody tr th {\n",
       "        vertical-align: top;\n",
       "    }\n",
       "\n",
       "    .dataframe thead th {\n",
       "        text-align: right;\n",
       "    }\n",
       "</style>\n",
       "<table border=\"1\" class=\"dataframe\">\n",
       "  <thead>\n",
       "    <tr style=\"text-align: right;\">\n",
       "      <th></th>\n",
       "      <th>user_id</th>\n",
       "      <th>song 0</th>\n",
       "      <th>song 1</th>\n",
       "      <th>song 2</th>\n",
       "      <th>song 3</th>\n",
       "      <th>song 4</th>\n",
       "      <th>song 5</th>\n",
       "      <th>song 6</th>\n",
       "      <th>song 7</th>\n",
       "      <th>song 8</th>\n",
       "      <th>song 9</th>\n",
       "    </tr>\n",
       "  </thead>\n",
       "  <tbody>\n",
       "    <tr>\n",
       "      <th>0</th>\n",
       "      <td>43683da3c6c5a93c7938ff550faf0d039a9a639a</td>\n",
       "      <td>SOERVER12A58A7DE48</td>\n",
       "      <td>SODABLD12A6D4F8B3C</td>\n",
       "      <td>SOKKDQB12AB01883B7</td>\n",
       "      <td>SOXUSKK12A8C144F94</td>\n",
       "      <td>SOBITYB12AB01830F5</td>\n",
       "      <td>SOLKPSQ12A6D223BC4</td>\n",
       "      <td>SOXDFVJ12A6D4FD18A</td>\n",
       "      <td>SOVZGLW12A8AE4570B</td>\n",
       "      <td>SOPOYLD12A8C13B17A</td>\n",
       "      <td>SODYWBD12A8C139845</td>\n",
       "    </tr>\n",
       "    <tr>\n",
       "      <th>1</th>\n",
       "      <td>85d0d381551960608e02df98956277e495b3cf6b</td>\n",
       "      <td>SOQPYQS12A58A7B8DF</td>\n",
       "      <td>SOCCYYG12AB0184DE8</td>\n",
       "      <td>SOCMSRR12A81C22F45</td>\n",
       "      <td>SORCAKN12A58A7A2CF</td>\n",
       "      <td>SOHGWFC12AB017F2E7</td>\n",
       "      <td>SOUFABE12A6701CFFF</td>\n",
       "      <td>SOBYRVR12A6D4FAF83</td>\n",
       "      <td>SOSHQHA12A58A7B1E9</td>\n",
       "      <td>SOFRQTD12A81C233C0</td>\n",
       "      <td></td>\n",
       "    </tr>\n",
       "    <tr>\n",
       "      <th>2</th>\n",
       "      <td>ac1cb58f839ae6773732125e99b4a7394e0661e4</td>\n",
       "      <td>SOVMKIC12AF72A05CC</td>\n",
       "      <td>SOWMGHQ12A6D4F914D</td>\n",
       "      <td>SOZZIOH12A67ADE300</td>\n",
       "      <td>SOLGWFD12B0B807B28</td>\n",
       "      <td>SOFWUWJ12A6D4F991E</td>\n",
       "      <td>SOPRVKW12A6D4FD57B</td>\n",
       "      <td>SOQAQYN12A58A7B08D</td>\n",
       "      <td>SOPAETP12A8C131E3B</td>\n",
       "      <td>SOIJTAV12AB01825CA</td>\n",
       "      <td>SOTMFRY12A8C13C8A2</td>\n",
       "    </tr>\n",
       "    <tr>\n",
       "      <th>3</th>\n",
       "      <td>9c2032efba612bccec98435a3928b67d69350bed</td>\n",
       "      <td>SOEPJEF12AF72A44DA</td>\n",
       "      <td>SODLYRF12AB01861E0</td>\n",
       "      <td>SOCKZGC1280EC90D76</td>\n",
       "      <td>SOTOXYL12A8C139E18</td>\n",
       "      <td>SOWMACK12AB017E581</td>\n",
       "      <td>SOVXEFY12AB017CE50</td>\n",
       "      <td>SOMRCAS12A58A7CB34</td>\n",
       "      <td></td>\n",
       "      <td></td>\n",
       "      <td></td>\n",
       "    </tr>\n",
       "    <tr>\n",
       "      <th>4</th>\n",
       "      <td>c4bcf00d005e6848a032d94f7fb212f499cdc1ba</td>\n",
       "      <td>SOWKVVW12A8AE45E8C</td>\n",
       "      <td>SOLVTSK12AB017EFCC</td>\n",
       "      <td>SOCZVSX12A6D4F5033</td>\n",
       "      <td>SOAUNAX12AB01876D0</td>\n",
       "      <td>SOTMTTY12A6D4F95A1</td>\n",
       "      <td>SOBNXJY12A8C13E070</td>\n",
       "      <td>SOVFFSK12A6BD55C96</td>\n",
       "      <td>SOSJIUS12A8C13C501</td>\n",
       "      <td>SOGISVQ12A8C13AE9B</td>\n",
       "      <td></td>\n",
       "    </tr>\n",
       "  </tbody>\n",
       "</table>\n",
       "</div>"
      ],
      "text/plain": [
       "                                    user_id              song 0  \\\n",
       "0  43683da3c6c5a93c7938ff550faf0d039a9a639a  SOERVER12A58A7DE48   \n",
       "1  85d0d381551960608e02df98956277e495b3cf6b  SOQPYQS12A58A7B8DF   \n",
       "2  ac1cb58f839ae6773732125e99b4a7394e0661e4  SOVMKIC12AF72A05CC   \n",
       "3  9c2032efba612bccec98435a3928b67d69350bed  SOEPJEF12AF72A44DA   \n",
       "4  c4bcf00d005e6848a032d94f7fb212f499cdc1ba  SOWKVVW12A8AE45E8C   \n",
       "\n",
       "               song 1              song 2              song 3  \\\n",
       "0  SODABLD12A6D4F8B3C  SOKKDQB12AB01883B7  SOXUSKK12A8C144F94   \n",
       "1  SOCCYYG12AB0184DE8  SOCMSRR12A81C22F45  SORCAKN12A58A7A2CF   \n",
       "2  SOWMGHQ12A6D4F914D  SOZZIOH12A67ADE300  SOLGWFD12B0B807B28   \n",
       "3  SODLYRF12AB01861E0  SOCKZGC1280EC90D76  SOTOXYL12A8C139E18   \n",
       "4  SOLVTSK12AB017EFCC  SOCZVSX12A6D4F5033  SOAUNAX12AB01876D0   \n",
       "\n",
       "               song 4              song 5              song 6  \\\n",
       "0  SOBITYB12AB01830F5  SOLKPSQ12A6D223BC4  SOXDFVJ12A6D4FD18A   \n",
       "1  SOHGWFC12AB017F2E7  SOUFABE12A6701CFFF  SOBYRVR12A6D4FAF83   \n",
       "2  SOFWUWJ12A6D4F991E  SOPRVKW12A6D4FD57B  SOQAQYN12A58A7B08D   \n",
       "3  SOWMACK12AB017E581  SOVXEFY12AB017CE50  SOMRCAS12A58A7CB34   \n",
       "4  SOTMTTY12A6D4F95A1  SOBNXJY12A8C13E070  SOVFFSK12A6BD55C96   \n",
       "\n",
       "               song 7              song 8              song 9  \n",
       "0  SOVZGLW12A8AE4570B  SOPOYLD12A8C13B17A  SODYWBD12A8C139845  \n",
       "1  SOSHQHA12A58A7B1E9  SOFRQTD12A81C233C0                      \n",
       "2  SOPAETP12A8C131E3B  SOIJTAV12AB01825CA  SOTMFRY12A8C13C8A2  \n",
       "3                                                              \n",
       "4  SOSJIUS12A8C13C501  SOGISVQ12A8C13AE9B                      "
      ]
     },
     "execution_count": 22,
     "metadata": {},
     "output_type": "execute_result"
    }
   ],
   "source": [
    "test_df.head(5)"
   ]
  },
  {
   "cell_type": "code",
   "execution_count": 19,
   "metadata": {},
   "outputs": [],
   "source": [
    "import dill\n",
    "import csv"
   ]
  },
  {
   "cell_type": "code",
   "execution_count": null,
   "metadata": {},
   "outputs": [],
   "source": [
    "Evaluate = dill.load(open(\"Evaluate.pik\", 'rb'))\n",
    "evaluate =  dill.load(open(\"eval.pik\", 'rb'))\n",
    "print(\"F1 score: {}%\".format(evaluate.score('recommendations.csv')))"
   ]
  },
  {
   "cell_type": "code",
   "execution_count": null,
   "metadata": {},
   "outputs": [],
   "source": []
  }
 ],
 "metadata": {
  "kernelspec": {
   "display_name": "Python 3",
   "language": "python",
   "name": "python3"
  },
  "language_info": {
   "codemirror_mode": {
    "name": "ipython",
    "version": 3
   },
   "file_extension": ".py",
   "mimetype": "text/x-python",
   "name": "python",
   "nbconvert_exporter": "python",
   "pygments_lexer": "ipython3",
   "version": "3.7.8"
  }
 },
 "nbformat": 4,
 "nbformat_minor": 4
}
