{
 "cells": [
  {
   "cell_type": "code",
   "execution_count": 1,
   "metadata": {},
   "outputs": [],
   "source": [
    "from IPython.display import clear_output\n",
    "\n"
   ]
  },
  {
   "cell_type": "code",
   "execution_count": 2,
   "metadata": {},
   "outputs": [],
   "source": [
    "def print_tic_tac_toe(values):\n",
    "    print(\"\\n\")\n",
    "    print(\"\\t     |     |\")\n",
    "    print(\"\\t  {}  |  {}  |  {}\".format(values[0], values[1], values[2]))\n",
    "    print('\\t_____|_____|_____')\n",
    " \n",
    "    print(\"\\t     |     |\")\n",
    "    print(\"\\t  {}  |  {}  |  {}\".format(values[3], values[4], values[5]))\n",
    "    print('\\t_____|_____|_____')\n",
    " \n",
    "    print(\"\\t     |     |\")\n",
    " \n",
    "    print(\"\\t  {}  |  {}  |  {}\".format(values[6], values[7], values[8]))\n",
    "    print(\"\\t     |     |\")\n",
    "    print(\"\\n\")"
   ]
  },
  {
   "cell_type": "code",
   "execution_count": 6,
   "metadata": {},
   "outputs": [
    {
     "name": "stdout",
     "output_type": "stream",
     "text": [
      "\n",
      "\n",
      "\t     |     |\n",
      "\t     |     |   \n",
      "\t_____|_____|_____\n",
      "\t     |     |\n",
      "\t     |     |   \n",
      "\t_____|_____|_____\n",
      "\t     |     |\n",
      "\t     |     |   \n",
      "\t     |     |\n",
      "\n",
      "\n"
     ]
    }
   ],
   "source": [
    "print_tic_tac_toe([\" \" for i in range(9)])"
   ]
  },
  {
   "cell_type": "code",
   "execution_count": 8,
   "metadata": {},
   "outputs": [],
   "source": [
    "def user_input():\n",
    "    \n",
    "    choice = \"wrong\"\n",
    "    \n",
    "    while choice not in [\"X\", \"O\"]:\n",
    "        \n",
    "        choice = input(\"Pick a marker between [X, O]\")\n",
    "        \n",
    "        if choice not in [\"X\",\"O\"]:\n",
    "            clear_output()\n",
    "            \n",
    "            print(\"Choose valid option\")\n",
    "    \n",
    "    return choice"
   ]
  },
  {
   "cell_type": "code",
   "execution_count": 9,
   "metadata": {},
   "outputs": [],
   "source": [
    "def choose_position(l, player):\n",
    "    choice = \"wrong\"\n",
    "    \n",
    "    while choice != \"valid\":\n",
    "        value = int(input(\"Player {}, pick a number between 0 and 8:\".format(player)))\n",
    "        if value not in range(0,9):\n",
    "            clear_output()\n",
    "            print(\"Choose valid option\")\n",
    "        elif l[value] == \" \":\n",
    "            l[value] = player\n",
    "            choice = \"valid\"\n",
    "            \n",
    "        else:\n",
    "            clear_output()\n",
    "            print(\"Position already taken, choose anoother number\")\n",
    "    return l"
   ]
  },
  {
   "cell_type": "code",
   "execution_count": 10,
   "metadata": {},
   "outputs": [],
   "source": [
    "def check_result(l):\n",
    "    for i in range(0,3):\n",
    "        if [\"X\",\"X\",\"X\"] == [l[i*3],l[(i*3)+1],l[(i*3)+2]]:\n",
    "            return \"Player X won the game\"\n",
    "        elif [\"O\",\"O\",\"O\"] == [l[i*3],l[(i*3)+1],l[(i*3)+2]]:\n",
    "            return \"Player O won the game\"\n",
    "        elif [\"X\",\"X\",\"X\"] == [l[i],l[i+3],l[i+6]]:\n",
    "            return \"Player X won the game\"\n",
    "        elif [\"O\",\"O\",\"O\"] == [l[i],l[i+3],l[i+6]]:\n",
    "            return \"Player O won the game\"\n",
    "        elif [\"X\",\"X\",\"X\"] == [l[0],l[4],l[8]] or [\"X\",\"X\",\"X\"] == [l[2],l[4],l[6]]:\n",
    "            return \"Player X won the game\"\n",
    "        elif [\"O\",\"O\",\"O\"] == [l[0],l[4],l[8]] or [\"O\",\"O\",\"O\"] == [l[2],l[4],l[6]]:\n",
    "            return \"Player O won the game\"\n",
    "        elif \" \" not in l:\n",
    "            return \"The match ended in draw\"\n",
    "        "
   ]
  },
  {
   "cell_type": "code",
   "execution_count": 17,
   "metadata": {},
   "outputs": [],
   "source": [
    "class Player_Bot():\n",
    "    def __init__(self, player):\n",
    "        if player == \"X\":\n",
    "            self.player = \"O\"\n",
    "        else:\n",
    "            self.player = \"X\"\n",
    "        "
   ]
  },
  {
   "cell_type": "code",
   "execution_count": 18,
   "metadata": {},
   "outputs": [],
   "source": [
    "class Board():\n",
    "    def __init__(self):\n",
    "        self.moves = [\" \" for i in range(9)]\n",
    "\n",
    "    def print(self):\n",
    "        print(\"\\n\")\n",
    "        print(\"\\t     |     |\")\n",
    "        print(\"\\t  {}  |  {}  |  {}\".format(self.moves[0], self.moves[1], self.moves[2]))\n",
    "        print('\\t_____|_____|_____')\n",
    " \n",
    "        print(\"\\t     |     |\")\n",
    "        print(\"\\t  {}  |  {}  |  {}\".format(self.moves[3], self.moves[4], self.moves[5]))\n",
    "        print('\\t_____|_____|_____')\n",
    " \n",
    "        print(\"\\t     |     |\")\n",
    " \n",
    "        print(\"\\t  {}  |  {}  |  {}\".format(self.moves[6], self.moves[7], self.moves[8]))\n",
    "        print(\"\\t     |     |\")\n",
    "        print(\"\\n\")\n",
    "    "
   ]
  },
  {
   "cell_type": "code",
   "execution_count": null,
   "metadata": {},
   "outputs": [],
   "source": []
  },
  {
   "cell_type": "code",
   "execution_count": 13,
   "metadata": {},
   "outputs": [],
   "source": [
    "def main():\n",
    "    player1 = user_input()\n",
    "    if player1 == \"X\":\n",
    "        player2 = \"O\"\n",
    "    else:\n",
    "        player2 = \"X\"\n",
    "    print(\"Player \", player1, \" starts the game.\")\n",
    "    l = [\" \" for i in range(9)]\n",
    "    players = [player1, player2]\n",
    "    i = 0\n",
    "    while check_result(l) is None:\n",
    "        j = i%2\n",
    "        l = choose_position(l, players[j])\n",
    "        print(\"The board is currently looking as\")\n",
    "        print_tic_tac_toe(l)\n",
    "        i+=1\n",
    "    return check_result(l)\n",
    "        "
   ]
  },
  {
   "cell_type": "code",
   "execution_count": 14,
   "metadata": {},
   "outputs": [
    {
     "name": "stdin",
     "output_type": "stream",
     "text": [
      "Pick a marker between [X, O] X\n"
     ]
    },
    {
     "name": "stdout",
     "output_type": "stream",
     "text": [
      "Player  X  starts the game.\n"
     ]
    },
    {
     "name": "stdin",
     "output_type": "stream",
     "text": [
      "Player X, pick a number between 0 and 8: 0\n"
     ]
    },
    {
     "name": "stdout",
     "output_type": "stream",
     "text": [
      "The board is currently looking as\n",
      "\n",
      "\n",
      "\t     |     |\n",
      "\t  X  |     |   \n",
      "\t_____|_____|_____\n",
      "\t     |     |\n",
      "\t     |     |   \n",
      "\t_____|_____|_____\n",
      "\t     |     |\n",
      "\t     |     |   \n",
      "\t     |     |\n",
      "\n",
      "\n"
     ]
    },
    {
     "name": "stdin",
     "output_type": "stream",
     "text": [
      "Player O, pick a number between 0 and 8: 2\n"
     ]
    },
    {
     "name": "stdout",
     "output_type": "stream",
     "text": [
      "The board is currently looking as\n",
      "\n",
      "\n",
      "\t     |     |\n",
      "\t  X  |     |  O\n",
      "\t_____|_____|_____\n",
      "\t     |     |\n",
      "\t     |     |   \n",
      "\t_____|_____|_____\n",
      "\t     |     |\n",
      "\t     |     |   \n",
      "\t     |     |\n",
      "\n",
      "\n"
     ]
    },
    {
     "name": "stdin",
     "output_type": "stream",
     "text": [
      "Player X, pick a number between 0 and 8: 5\n"
     ]
    },
    {
     "name": "stdout",
     "output_type": "stream",
     "text": [
      "The board is currently looking as\n",
      "\n",
      "\n",
      "\t     |     |\n",
      "\t  X  |     |  O\n",
      "\t_____|_____|_____\n",
      "\t     |     |\n",
      "\t     |     |  X\n",
      "\t_____|_____|_____\n",
      "\t     |     |\n",
      "\t     |     |   \n",
      "\t     |     |\n",
      "\n",
      "\n"
     ]
    },
    {
     "name": "stdin",
     "output_type": "stream",
     "text": [
      "Player O, pick a number between 0 and 8: 4\n"
     ]
    },
    {
     "name": "stdout",
     "output_type": "stream",
     "text": [
      "The board is currently looking as\n",
      "\n",
      "\n",
      "\t     |     |\n",
      "\t  X  |     |  O\n",
      "\t_____|_____|_____\n",
      "\t     |     |\n",
      "\t     |  O  |  X\n",
      "\t_____|_____|_____\n",
      "\t     |     |\n",
      "\t     |     |   \n",
      "\t     |     |\n",
      "\n",
      "\n"
     ]
    },
    {
     "name": "stdin",
     "output_type": "stream",
     "text": [
      "Player X, pick a number between 0 and 8: 3\n"
     ]
    },
    {
     "name": "stdout",
     "output_type": "stream",
     "text": [
      "The board is currently looking as\n",
      "\n",
      "\n",
      "\t     |     |\n",
      "\t  X  |     |  O\n",
      "\t_____|_____|_____\n",
      "\t     |     |\n",
      "\t  X  |  O  |  X\n",
      "\t_____|_____|_____\n",
      "\t     |     |\n",
      "\t     |     |   \n",
      "\t     |     |\n",
      "\n",
      "\n"
     ]
    },
    {
     "name": "stdin",
     "output_type": "stream",
     "text": [
      "Player O, pick a number between 0 and 8: 6\n"
     ]
    },
    {
     "name": "stdout",
     "output_type": "stream",
     "text": [
      "The board is currently looking as\n",
      "\n",
      "\n",
      "\t     |     |\n",
      "\t  X  |     |  O\n",
      "\t_____|_____|_____\n",
      "\t     |     |\n",
      "\t  X  |  O  |  X\n",
      "\t_____|_____|_____\n",
      "\t     |     |\n",
      "\t  O  |     |   \n",
      "\t     |     |\n",
      "\n",
      "\n"
     ]
    },
    {
     "data": {
      "text/plain": [
       "'Player O won the game'"
      ]
     },
     "execution_count": 14,
     "metadata": {},
     "output_type": "execute_result"
    }
   ],
   "source": [
    "main()"
   ]
  },
  {
   "cell_type": "code",
   "execution_count": null,
   "metadata": {},
   "outputs": [],
   "source": []
  }
 ],
 "metadata": {
  "kernelspec": {
   "display_name": "Python 3",
   "language": "python",
   "name": "python3"
  },
  "language_info": {
   "codemirror_mode": {
    "name": "ipython",
    "version": 3
   },
   "file_extension": ".py",
   "mimetype": "text/x-python",
   "name": "python",
   "nbconvert_exporter": "python",
   "pygments_lexer": "ipython3",
   "version": "3.8.3"
  }
 },
 "nbformat": 4,
 "nbformat_minor": 4
}
